{
 "cells": [
  {
   "cell_type": "markdown",
   "id": "539df616",
   "metadata": {},
   "source": [
    "# Satellite Propagation and Measurement Modeling"
   ]
  },
  {
   "cell_type": "markdown",
   "id": "7dd2bb30-0580-4f1c-b3da-f0f0fa07a874",
   "metadata": {},
   "source": [
    "## State Transition Model"
   ]
  },
  {
   "cell_type": "markdown",
   "id": "bdfb6d7c-6e62-4eef-8d9f-4481230c3ba4",
   "metadata": {},
   "source": [
    "In this section, 1e will be using a two-body Keplerian model to propagate the satellite.\n",
    "The two-body Keplerian model is based on the two-body model that assumes \n",
    "a spherical gravity field for the Earth and neglects third body effects \n",
    "and other environmental perturbations.\n",
    "\n",
    "The two-body Keplerian model is constructing using the poliastro toolbox,\n",
    "with an example application shown below."
   ]
  },
  {
   "cell_type": "code",
   "execution_count": 1,
   "id": "cdb9d5f8-006e-4d41-89c7-e0b2f4ef69e0",
   "metadata": {},
   "outputs": [],
   "source": [
    "from astropy.time import Time\n",
    "from poliastro.twobody import Orbit\n",
    "from poliastro.bodies import Earth\n",
    "from astropy import units as u\n",
    "import numpy as np"
   ]
  },
  {
   "cell_type": "code",
   "execution_count": null,
   "id": "118ac01a-c3ea-4fc7-bc7b-a84ec1a851c7",
   "metadata": {},
   "outputs": [
    {
     "name": "stdout",
     "output_type": "stream",
     "text": [
      "The position of the satellite is [ 3235.64171524  2693.72565982 -5335.42793567] km\n",
      "The velocity of the satellite is [-4.87430005  5.89879341  0.01977648] km / s\n"
     ]
    }
   ],
   "source": [
    "# Define initial position and velocity vectors\n",
    "position = [3235.64171524,  2693.72565982, -5335.42793567]\n",
    "velocity = [-4.87430005,  5.89879341,  0.01977648]\n",
    "\n",
    "# Create a time object that corresponds to the initial state\n",
    "t_astropy = Time('2024-05-13T00:00:00', format='isot', scale='utc')\n",
    "\n",
    "# Create a poliastro Orbit object from position and velocity vectors\n",
    "orbit = Orbit.from_vectors(Earth, position<< u.km, velocity<< u.km / u.s, epoch=t_astropy)\n",
    "\n",
    "# Obtain the position and velocity values\n",
    "print('The position of the satellite is', orbit.r)\n",
    "print('The velocity of the satellite is', orbit.v)"
   ]
  },
  {
   "cell_type": "code",
   "execution_count": 3,
   "id": "475a5ae8-2253-42a9-82e3-7dbb557f506c",
   "metadata": {},
   "outputs": [
    {
     "name": "stdout",
     "output_type": "stream",
     "text": [
      "The new position of the satellite is [-5304.15733845  3497.07469551  2374.42056251] km\n",
      "The new velocity of the satellite is [-1.10089819 -5.34797219  5.38379247] km / s\n"
     ]
    }
   ],
   "source": [
    "# Propagate the satellite for 30 minutes by calling the propagate function\n",
    "orbit_30m = orbit.propagate(30 << u.min)\n",
    "\n",
    "# Obtain the new position and velocity\n",
    "print('The new position of the satellite is', orbit_30m.r)\n",
    "print('The new velocity of the satellite is', orbit_30m.v)"
   ]
  },
  {
   "cell_type": "markdown",
   "id": "70892747-8fd5-406d-a711-e1a0099656d0",
   "metadata": {},
   "source": [
    "## Measurement Model"
   ]
  },
  {
   "cell_type": "markdown",
   "id": "aa968d69-5149-4089-bdb7-97738206ae2a",
   "metadata": {},
   "source": [
    "In the section, we will define the measurement model for GPS measurements. We will be directly measuring the the position and velocity of the satellite, i.e, \n",
    "$$y = h(x) = [x,y,z,Vx,Vy,Vz]$$"
   ]
  },
  {
   "cell_type": "code",
   "execution_count": 4,
   "id": "b0211d5a-d3bf-4276-8d68-244090e99080",
   "metadata": {},
   "outputs": [
    {
     "name": "stdout",
     "output_type": "stream",
     "text": [
      "y_{t0} = [ 3.23564172e+03  2.69372566e+03 -5.33542794e+03 -4.87430005e+00\n",
      "  5.89879341e+00  1.97764800e-02]\n",
      "y_{30min} = [-5.30415734e+03  3.49707470e+03  2.37442056e+03 -1.10089819e+00\n",
      " -5.34797219e+00  5.38379247e+00]\n"
     ]
    }
   ],
   "source": [
    "# The ideal GPS measurement is then:\n",
    "yt0 = np.hstack((orbit.r.value, orbit.v.value))\n",
    "y30min = np.hstack((orbit_30m.r.value, orbit_30m.v.value))\n",
    "print(\"y_{t0} =\", yt0)\n",
    "print(\"y_{30min} =\", y30min)"
   ]
  },
  {
   "cell_type": "markdown",
   "id": "4ccebc89-7bcf-4368-a406-cbafe4648397",
   "metadata": {},
   "source": [
    "## Loading the measurement data"
   ]
  },
  {
   "cell_type": "markdown",
   "id": "e36c5f06",
   "metadata": {},
   "source": [
    "In the section, we will laod the measurement data from a file."
   ]
  },
  {
   "cell_type": "code",
   "execution_count": 5,
   "id": "dd54f064-df55-4939-b8d8-11b52f4187c9",
   "metadata": {},
   "outputs": [],
   "source": [
    "# Load measurement data from file\n",
    "npzfile = np.load('GPS_meas.npz',allow_pickle=True)"
   ]
  },
  {
   "cell_type": "code",
   "execution_count": 6,
   "id": "346c8dd0-16a2-486e-84ad-8d707ecb64e3",
   "metadata": {},
   "outputs": [
    {
     "name": "stdout",
     "output_type": "stream",
     "text": [
      "(721, 6)\n"
     ]
    }
   ],
   "source": [
    "# Extract noisy measurements\n",
    "noisy_measurement = npzfile['measurements']\n",
    "print(noisy_measurement.shape)"
   ]
  },
  {
   "cell_type": "code",
   "execution_count": 7,
   "id": "ea29f96a-7c9a-400a-ab16-4fbd2600507f",
   "metadata": {},
   "outputs": [
    {
     "name": "stdout",
     "output_type": "stream",
     "text": [
      "(721,)\n"
     ]
    }
   ],
   "source": [
    "# Extract measurement timestamps\n",
    "t_measurement = npzfile['t_measurements']\n",
    "print(t_measurement.shape)"
   ]
  },
  {
   "cell_type": "code",
   "execution_count": null,
   "id": "f95b897b-cdc4-41b7-b31a-b20a19c8ddb5",
   "metadata": {},
   "outputs": [],
   "source": []
  }
 ],
 "metadata": {
  "kernelspec": {
   "display_name": "Python 3 (ipykernel)",
   "language": "python",
   "name": "python3"
  },
  "language_info": {
   "codemirror_mode": {
    "name": "ipython",
    "version": 3
   },
   "file_extension": ".py",
   "mimetype": "text/x-python",
   "name": "python",
   "nbconvert_exporter": "python",
   "pygments_lexer": "ipython3",
   "version": "3.11.9"
  }
 },
 "nbformat": 4,
 "nbformat_minor": 5
}
